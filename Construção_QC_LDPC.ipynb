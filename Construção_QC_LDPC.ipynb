{
  "nbformat": 4,
  "nbformat_minor": 0,
  "metadata": {
    "colab": {
      "provenance": [],
      "include_colab_link": true
    },
    "kernelspec": {
      "name": "python3",
      "display_name": "Python 3"
    },
    "language_info": {
      "name": "python"
    }
  },
  "cells": [
    {
      "cell_type": "markdown",
      "metadata": {
        "id": "view-in-github",
        "colab_type": "text"
      },
      "source": [
        "<a href=\"https://colab.research.google.com/github/ravillaleite/CVQKD-Reconciliation/blob/main/Constru%C3%A7%C3%A3o_QC_LDPC.ipynb\" target=\"_parent\"><img src=\"https://colab.research.google.com/assets/colab-badge.svg\" alt=\"Open In Colab\"/></a>"
      ]
    },
    {
      "cell_type": "markdown",
      "source": [
        "# LDPC IRREGULARES"
      ],
      "metadata": {
        "id": "groZWcHDIlyG"
      }
    },
    {
      "cell_type": "markdown",
      "source": [
        "Geração de uma matriz LDPC irregular, com o polinômio do exemplo 3.1 do livro Iterative Error Correction, da Sarah Johnson. Os parâmetros do código são os seguintes:\n",
        "\n",
        "\n",
        "*   $λ(x) = 1/4 + 1/2x + 1/4x^2$ e $ρ(x) = x^3$;\n",
        "\n",
        "*   $Λ(x) = 3/7x + 3/7x^2 + 1/7x^3$ e $P(x) = x^4$;\n",
        "\n",
        "*   $N=21$ e um total de arestas de $9 ⋅ 1 + 9 ⋅ 2 + 3 ⋅ 3 = 36$.\n",
        "\n",
        "> 36 arestas com 4 por linha leva a $m=9$ linhas e taxa $9/21 = 3/7$.\n",
        "\n",
        "A matriz foi construída à mão, utilizando as técnicas de **Bit-Filling** e a técnica apresentada por **Milicevic et al.**, onde os nós de variável de peso 1 se localizam na parte final do código.\n",
        "\n",
        "*    A ideia inicial é fazer alguns testes com essa matriz, realizando a expansão quasí-cíclica e analisando o comportamento do polinômio com a escolha de diferentes valores de b - fator de expansão quasí-cíclica.\n",
        "\n",
        "*    Posteriormente, deve ser implementado o algoritmo para produzir a matriz-base a partir do polinômio."
      ],
      "metadata": {
        "id": "uqAqhsEez7t3"
      }
    },
    {
      "cell_type": "code",
      "source": [
        "# @title Biblitecas de Suporte\n",
        "import numpy as np"
      ],
      "metadata": {
        "id": "UnUBgp0TJDq7"
      },
      "execution_count": 1,
      "outputs": []
    },
    {
      "cell_type": "markdown",
      "source": [
        "## Exemplo de Aplicação -"
      ],
      "metadata": {
        "id": "OP6vrVLxItkI"
      }
    },
    {
      "cell_type": "code",
      "execution_count": 2,
      "metadata": {
        "id": "I5E2uwazz5O6"
      },
      "outputs": [],
      "source": [
        "Matriz_LDPC = np.array([[1, 1, 0, 1, 0, 0, 0, 0, 0, 0, 0, 0, 1, 0, 0, 0, 0, 0, 0, 0, 0],\n",
        "                        [1, 0, 1, 0, 1, 0, 0, 0, 0, 0, 0, 0, 0, 1, 0, 0, 0, 0, 0, 0, 0],\n",
        "                        [0, 1, 0, 0, 1, 0, 1, 0, 0, 0, 0, 0, 0, 0, 1, 0, 0, 0, 0, 0, 0],\n",
        "                        [0, 0, 1, 1, 0, 1, 0, 0, 0, 0, 0, 0, 0, 0, 0, 1, 0, 0, 0, 0, 0],\n",
        "                        [0, 0, 0, 1, 0, 0, 1, 0, 0, 0, 0, 1, 0, 0, 0, 0, 1, 0, 0, 0, 0],\n",
        "                        [0, 0, 0, 0, 0, 1, 0, 1, 0, 1, 0, 0, 0, 0, 0, 0, 0, 1, 0, 0, 0],\n",
        "                        [0, 0, 0, 0, 0, 0, 1, 0, 0, 0, 1, 1, 0, 0, 0, 0, 0, 0, 1, 0, 0],\n",
        "                        [0, 0, 0, 0, 0, 0, 0, 1, 1, 0, 1, 0, 0, 0, 0, 0, 0, 0, 0, 1, 0],\n",
        "                        [0, 0, 0, 0, 0, 0, 0, 0, 1, 1, 0, 1, 0, 0, 0, 0, 0, 0, 0, 0, 1]])"
      ]
    },
    {
      "cell_type": "markdown",
      "source": [
        "As linhas de código da célula a seguir são utilizadas para calcular os parâmetros principais de H e checar se eles batem com os fatores de projeto. Posteriormente, serão utilizados para avaliar se a matriz expandida conserva as distribuições de graus dos polinômios e a taxa de projeto."
      ],
      "metadata": {
        "id": "r6CaXXpaE_lv"
      }
    },
    {
      "cell_type": "code",
      "source": [
        "m, N = np.shape(Matriz_LDPC)\n",
        "\n",
        "wr = np.sum(Matriz_LDPC, 1) #pesos das linhas\n",
        "wc = np.sum(Matriz_LDPC, 0) #pesos das colunas\n",
        "\n",
        "print(f'''Distribuição das linhas: {wr}\n",
        "Distribuição das colunas: {wc}\n",
        "''')\n",
        "graus_colunas, count_colunas = np.unique(wc, return_counts=True)\n",
        "graus_linhas, count_linhas = np.unique(wr, return_counts=True)\n",
        "\n",
        "print(f'''Graus e quantidades das colunas: {graus_colunas} {count_colunas}\n",
        "Graus e quantidades das linhas: {graus_linhas} {count_linhas}\n",
        "''')\n",
        "\n",
        "total_arestas = np.count_nonzero(Matriz_LDPC)\n",
        "print('Total de arestas na Matriz: ', total_arestas)\n",
        "\n",
        "#Voltando para o polinômio de distribuição da perspectiva das arestas:\n",
        "graus_colunas_arestas = np.zeros(len(graus_colunas))\n",
        "graus_linhas_arestas = np.zeros(len(graus_linhas))\n",
        "\n",
        "for i in range(0, len(graus_colunas)):\n",
        "  graus_colunas_arestas[i] = (graus_colunas[i] * count_colunas[i]) / total_arestas\n",
        "\n",
        "for i in range(0, len(graus_linhas)):\n",
        "  graus_linhas_arestas[i] = (graus_linhas[i] * count_linhas[i]) / total_arestas\n",
        "\n",
        "print(f'''Coeficientes dos polinômios:\n",
        "Coluna (lambda): {graus_colunas_arestas}\n",
        "Linhas (rho): {graus_linhas_arestas}\n",
        "''')"
      ],
      "metadata": {
        "colab": {
          "base_uri": "https://localhost:8080/"
        },
        "id": "Im4OrTHz7Bf3",
        "outputId": "ee109a99-7090-4d97-dc43-5a91e6b23770"
      },
      "execution_count": 3,
      "outputs": [
        {
          "output_type": "stream",
          "name": "stdout",
          "text": [
            "Distribuição das linhas: [4 4 4 4 4 4 4 4 4]\n",
            "Distribuição das colunas: [2 2 2 3 2 2 3 2 2 2 2 3 1 1 1 1 1 1 1 1 1]\n",
            "\n",
            "Graus e quantidades das colunas: [1 2 3] [9 9 3]\n",
            "Graus e quantidades das linhas: [4] [9]\n",
            "\n",
            "Total de arestas na Matriz:  36\n",
            "Coeficientes dos polinômios:\n",
            "Coluna (lambda): [0.25 0.5  0.25]\n",
            "Linhas (rho): [1.]\n",
            "\n"
          ]
        }
      ]
    },
    {
      "cell_type": "markdown",
      "source": [
        "Para transformar a matriz-base em uma matriz quasí-cíclica, é preciso inicialmente definir um fator de expansão **b**, e substituir cada entrada (exceto as da parte diagonal) por valores aleatórios que indicam a quantidade de rotações a serem realizadas em cada matriz identidade. Esses serão os passos realizados nas duas próximas células.\n",
        "Na parte diagonal, estão distribuídas todas as variáveis de grau 1."
      ],
      "metadata": {
        "id": "_XrU2SFQK7S-"
      }
    },
    {
      "cell_type": "code",
      "source": [
        "#fator de expansão\n",
        "b = 7\n",
        "\n",
        "# a matriz deve ter de 0 a b-1 rotações nas posições antes da diagonal maior\n",
        "# vamos primeiro descobrir onde começa a diagonal maior (colunas de grau 1):\n",
        "\n",
        "pos_col_grau1 = np.argwhere(graus_colunas == 1)\n",
        "\n",
        "print(count_colunas[pos_col_grau1])\n",
        "\n",
        "col_grau1 = int(count_colunas[pos_col_grau1].item())\n",
        "print(type(col_grau1))\n",
        "#for i in range(0, N - count_colunas[count_col_grau1]):\n",
        "#  print(i)"
      ],
      "metadata": {
        "colab": {
          "base_uri": "https://localhost:8080/"
        },
        "id": "Kwi6hjNELCcl",
        "outputId": "5d0ebd42-a158-4ba5-bc65-7a3212a85754"
      },
      "execution_count": 4,
      "outputs": [
        {
          "output_type": "stream",
          "name": "stdout",
          "text": [
            "[[9]]\n",
            "<class 'int'>\n"
          ]
        }
      ]
    },
    {
      "cell_type": "code",
      "source": [
        "print('Matriz LDPC antes da diagonal: ')\n",
        "\n",
        "for i in Matriz_LDPC[:,:-col_grau1]:\n",
        "  print(i)\n",
        "\n",
        "# Primeiro, substituímos as posições de valor '0' por '-1':\n",
        "\n",
        "matriz_base = np.copy(Matriz_LDPC)\n",
        "matriz_base[matriz_base == 0] = -1\n",
        "\n",
        "print('Matriz base, passo1: \\n', matriz_base)\n",
        "\n",
        "H_parcial = np.copy(matriz_base[:, :-col_grau1])\n",
        "matriz_aleatoria = np.random.randint(0, b, Matriz_LDPC[:, :-col_grau1].shape)\n",
        "\n",
        "print('Matriz aleatória: \\n', matriz_aleatoria)\n",
        "\n",
        "H_parcial[H_parcial == 1] = matriz_aleatoria[H_parcial == 1] # matriz aleatória ???\n",
        "matriz_base[:, :-col_grau1] = H_parcial\n",
        "\n",
        "print('Matriz base, passo2: \\n', matriz_base)"
      ],
      "metadata": {
        "id": "6jb4zpdyKcWI",
        "colab": {
          "base_uri": "https://localhost:8080/"
        },
        "outputId": "16d61cda-851e-4cc4-c460-1f1980801826"
      },
      "execution_count": 5,
      "outputs": [
        {
          "output_type": "stream",
          "name": "stdout",
          "text": [
            "Matriz LDPC antes da diagonal: \n",
            "[1 1 0 1 0 0 0 0 0 0 0 0]\n",
            "[1 0 1 0 1 0 0 0 0 0 0 0]\n",
            "[0 1 0 0 1 0 1 0 0 0 0 0]\n",
            "[0 0 1 1 0 1 0 0 0 0 0 0]\n",
            "[0 0 0 1 0 0 1 0 0 0 0 1]\n",
            "[0 0 0 0 0 1 0 1 0 1 0 0]\n",
            "[0 0 0 0 0 0 1 0 0 0 1 1]\n",
            "[0 0 0 0 0 0 0 1 1 0 1 0]\n",
            "[0 0 0 0 0 0 0 0 1 1 0 1]\n",
            "Matriz base, passo1: \n",
            " [[ 1  1 -1  1 -1 -1 -1 -1 -1 -1 -1 -1  1 -1 -1 -1 -1 -1 -1 -1 -1]\n",
            " [ 1 -1  1 -1  1 -1 -1 -1 -1 -1 -1 -1 -1  1 -1 -1 -1 -1 -1 -1 -1]\n",
            " [-1  1 -1 -1  1 -1  1 -1 -1 -1 -1 -1 -1 -1  1 -1 -1 -1 -1 -1 -1]\n",
            " [-1 -1  1  1 -1  1 -1 -1 -1 -1 -1 -1 -1 -1 -1  1 -1 -1 -1 -1 -1]\n",
            " [-1 -1 -1  1 -1 -1  1 -1 -1 -1 -1  1 -1 -1 -1 -1  1 -1 -1 -1 -1]\n",
            " [-1 -1 -1 -1 -1  1 -1  1 -1  1 -1 -1 -1 -1 -1 -1 -1  1 -1 -1 -1]\n",
            " [-1 -1 -1 -1 -1 -1  1 -1 -1 -1  1  1 -1 -1 -1 -1 -1 -1  1 -1 -1]\n",
            " [-1 -1 -1 -1 -1 -1 -1  1  1 -1  1 -1 -1 -1 -1 -1 -1 -1 -1  1 -1]\n",
            " [-1 -1 -1 -1 -1 -1 -1 -1  1  1 -1  1 -1 -1 -1 -1 -1 -1 -1 -1  1]]\n",
            "Matriz aleatória: \n",
            " [[2 2 3 6 1 4 2 6 6 3 5 2]\n",
            " [2 5 4 4 5 1 0 2 4 0 1 5]\n",
            " [6 5 2 5 0 4 1 5 3 5 4 1]\n",
            " [5 3 4 6 2 1 2 2 3 1 0 1]\n",
            " [0 0 6 5 1 5 4 0 0 0 5 1]\n",
            " [0 6 0 3 5 0 1 5 6 5 5 1]\n",
            " [2 5 2 5 2 4 3 3 0 0 2 1]\n",
            " [6 3 4 1 4 1 1 3 1 4 2 2]\n",
            " [3 1 2 1 6 4 6 5 3 1 0 2]]\n",
            "Matriz base, passo2: \n",
            " [[ 2  2 -1  6 -1 -1 -1 -1 -1 -1 -1 -1  1 -1 -1 -1 -1 -1 -1 -1 -1]\n",
            " [ 2 -1  4 -1  5 -1 -1 -1 -1 -1 -1 -1 -1  1 -1 -1 -1 -1 -1 -1 -1]\n",
            " [-1  5 -1 -1  0 -1  1 -1 -1 -1 -1 -1 -1 -1  1 -1 -1 -1 -1 -1 -1]\n",
            " [-1 -1  4  6 -1  1 -1 -1 -1 -1 -1 -1 -1 -1 -1  1 -1 -1 -1 -1 -1]\n",
            " [-1 -1 -1  5 -1 -1  4 -1 -1 -1 -1  1 -1 -1 -1 -1  1 -1 -1 -1 -1]\n",
            " [-1 -1 -1 -1 -1  0 -1  5 -1  5 -1 -1 -1 -1 -1 -1 -1  1 -1 -1 -1]\n",
            " [-1 -1 -1 -1 -1 -1  3 -1 -1 -1  2  1 -1 -1 -1 -1 -1 -1  1 -1 -1]\n",
            " [-1 -1 -1 -1 -1 -1 -1  3  1 -1  2 -1 -1 -1 -1 -1 -1 -1 -1  1 -1]\n",
            " [-1 -1 -1 -1 -1 -1 -1 -1  3  1 -1  2 -1 -1 -1 -1 -1 -1 -1 -1  1]]\n"
          ]
        }
      ]
    },
    {
      "cell_type": "markdown",
      "source": [
        "É preciso agora criar a função de expansão das matrizes quasí-cíclicas. Parece estar funcionando corretamente."
      ],
      "metadata": {
        "id": "IWpbThJyF7c9"
      }
    },
    {
      "cell_type": "code",
      "source": [
        "#import numpy as np\n",
        "\n",
        "def rotaciona_identidade(b, k):\n",
        "    \"\"\"Gera uma matriz identidade rotacionada k vezes\"\"\"\n",
        "    I = np.eye(b, dtype=int)  # Matriz identidade b x b\n",
        "    return np.roll(I, shift=-k, axis=0)  # Rotaciona as linhas da matriz\n",
        "\n",
        "def expandir_matriz(matriz, b):\n",
        "    \"\"\"Transforma a matriz original na matriz expandida\"\"\"\n",
        "    linhas, colunas = matriz.shape\n",
        "    # Criação da matriz expandida zerada\n",
        "    matriz_expandida = np.zeros((linhas * b, colunas * b), dtype=int)\n",
        "\n",
        "    for i in range(linhas):\n",
        "        for j in range(colunas):\n",
        "            valor = matriz[i, j]\n",
        "            bloco = None\n",
        "\n",
        "            if valor == -1:\n",
        "                bloco = np.zeros((b, b), dtype=int)  # Matriz de zeros\n",
        "            elif valor == 0:\n",
        "                bloco = np.eye(b, dtype=int)  # Matriz identidade sem rotação\n",
        "            elif 1 <= valor < b:\n",
        "                bloco = rotaciona_identidade(b, valor)  # Rotaciona a matriz identidade\n",
        "\n",
        "            if bloco is not None:\n",
        "                # Inserindo o bloco na posição correta\n",
        "                matriz_expandida[i*b:(i+1)*b, j*b:(j+1)*b] = bloco\n",
        "\n",
        "    return matriz_expandida\n",
        "\n",
        "# Teste\n",
        "#b = 3  # Tamanho da matriz identidade\n",
        "#matriz = np.array([[0, 1, -1],\n",
        "#                   [2, 0, 1],\n",
        "#                   [-1, 2, 0]])\n",
        "\n",
        "# Cria a matriz expandida\n",
        "matriz_expandida = expandir_matriz(matriz_base, b)\n",
        "print(matriz_expandida[:20, :20])"
      ],
      "metadata": {
        "id": "Xa9zDA34KgiQ",
        "colab": {
          "base_uri": "https://localhost:8080/"
        },
        "outputId": "f8781845-9e1f-43fb-888f-75f598ba4d77"
      },
      "execution_count": 6,
      "outputs": [
        {
          "output_type": "stream",
          "name": "stdout",
          "text": [
            "[[0 0 1 0 0 0 0 0 0 1 0 0 0 0 0 0 0 0 0 0]\n",
            " [0 0 0 1 0 0 0 0 0 0 1 0 0 0 0 0 0 0 0 0]\n",
            " [0 0 0 0 1 0 0 0 0 0 0 1 0 0 0 0 0 0 0 0]\n",
            " [0 0 0 0 0 1 0 0 0 0 0 0 1 0 0 0 0 0 0 0]\n",
            " [0 0 0 0 0 0 1 0 0 0 0 0 0 1 0 0 0 0 0 0]\n",
            " [1 0 0 0 0 0 0 1 0 0 0 0 0 0 0 0 0 0 0 0]\n",
            " [0 1 0 0 0 0 0 0 1 0 0 0 0 0 0 0 0 0 0 0]\n",
            " [0 0 1 0 0 0 0 0 0 0 0 0 0 0 0 0 0 0 1 0]\n",
            " [0 0 0 1 0 0 0 0 0 0 0 0 0 0 0 0 0 0 0 1]\n",
            " [0 0 0 0 1 0 0 0 0 0 0 0 0 0 0 0 0 0 0 0]\n",
            " [0 0 0 0 0 1 0 0 0 0 0 0 0 0 1 0 0 0 0 0]\n",
            " [0 0 0 0 0 0 1 0 0 0 0 0 0 0 0 1 0 0 0 0]\n",
            " [1 0 0 0 0 0 0 0 0 0 0 0 0 0 0 0 1 0 0 0]\n",
            " [0 1 0 0 0 0 0 0 0 0 0 0 0 0 0 0 0 1 0 0]\n",
            " [0 0 0 0 0 0 0 0 0 0 0 0 1 0 0 0 0 0 0 0]\n",
            " [0 0 0 0 0 0 0 0 0 0 0 0 0 1 0 0 0 0 0 0]\n",
            " [0 0 0 0 0 0 0 1 0 0 0 0 0 0 0 0 0 0 0 0]\n",
            " [0 0 0 0 0 0 0 0 1 0 0 0 0 0 0 0 0 0 0 0]\n",
            " [0 0 0 0 0 0 0 0 0 1 0 0 0 0 0 0 0 0 0 0]\n",
            " [0 0 0 0 0 0 0 0 0 0 1 0 0 0 0 0 0 0 0 0]]\n"
          ]
        }
      ]
    },
    {
      "cell_type": "markdown",
      "source": [
        "Agora, serão testados os parâmetros de distribuição da matriz expandida, para diferentes valores de **b**, afim de checar se a matriz expandida mantém as propriedades da matriz inicial:"
      ],
      "metadata": {
        "id": "CMTVsplcTnyI"
      }
    },
    {
      "cell_type": "code",
      "source": [
        "#matriz_expandida = np.array(np.loadtxt('Matriz_Expandida.txt'), dtype = 'int')\n",
        "m, N = np.shape(matriz_expandida)\n",
        "\n",
        "wr = np.sum(matriz_expandida, 1) #pesos das linhas\n",
        "wc = np.sum(matriz_expandida, 0) #pesos das colunas\n",
        "\n",
        "print(f'''Distribuição das linhas: {wr}\n",
        "Distribuição das colunas: {wc}\n",
        "''')\n",
        "graus_colunas, count_colunas = np.unique(wc, return_counts=True)\n",
        "graus_linhas, count_linhas = np.unique(wr, return_counts=True)\n",
        "\n",
        "print(f'''Graus e quantidades das colunas: {graus_colunas} {count_colunas}\n",
        "Graus e quantidades das linhas: {graus_linhas} {count_linhas}\n",
        "''')\n",
        "\n",
        "total_arestas = np.count_nonzero(matriz_expandida)\n",
        "print('Total de arestas na Matriz: ', total_arestas)\n",
        "\n",
        "#Voltando para o polinômio de distribuição da perspectiva das arestas:\n",
        "graus_colunas_arestas = np.zeros(len(graus_colunas))\n",
        "graus_linhas_arestas = np.zeros(len(graus_linhas))\n",
        "\n",
        "for i in range(0, len(graus_colunas)):\n",
        "  graus_colunas_arestas[i] = (graus_colunas[i] * count_colunas[i]) / total_arestas\n",
        "\n",
        "for i in range(0, len(graus_linhas)):\n",
        "  graus_linhas_arestas[i] = (graus_linhas[i] * count_linhas[i]) / total_arestas\n",
        "\n",
        "print(f'''Coeficientes dos polinômios:\n",
        "Coluna (lambda): {graus_colunas_arestas}\n",
        "Linhas (rho): {graus_linhas_arestas}\n",
        "''')"
      ],
      "metadata": {
        "colab": {
          "base_uri": "https://localhost:8080/"
        },
        "id": "MJek5u2WxE-D",
        "outputId": "0725871b-e212-4d7d-d79f-ebadcf148929"
      },
      "execution_count": 8,
      "outputs": [
        {
          "output_type": "stream",
          "name": "stdout",
          "text": [
            "Distribuição das linhas: [4 4 4 4 4 4 4 4 4 4 4 4 4 4 4 4 4 4 4 4 4 4 4 4 4 4 4 4 4 4 4 4 4 4 4 4 4\n",
            " 4 4 4 4 4 4 4 4 4 4 4 4 4 4 4 4 4 4 4 4 4 4 4 4 4 4]\n",
            "Distribuição das colunas: [2 2 2 2 2 2 2 2 2 2 2 2 2 2 2 2 2 2 2 2 2 3 3 3 3 3 3 3 2 2 2 2 2 2 2 2 2\n",
            " 2 2 2 2 2 3 3 3 3 3 3 3 2 2 2 2 2 2 2 2 2 2 2 2 2 2 2 2 2 2 2 2 2 2 2 2 2\n",
            " 2 2 2 3 3 3 3 3 3 3 1 1 1 1 1 1 1 1 1 1 1 1 1 1 1 1 1 1 1 1 1 1 1 1 1 1 1\n",
            " 1 1 1 1 1 1 1 1 1 1 1 1 1 1 1 1 1 1 1 1 1 1 1 1 1 1 1 1 1 1 1 1 1 1 1 1]\n",
            "\n",
            "Graus e quantidades das colunas: [1 2 3] [63 63 21]\n",
            "Graus e quantidades das linhas: [4] [63]\n",
            "\n",
            "Total de arestas na Matriz:  252\n",
            "Coeficientes dos polinômios:\n",
            "Coluna (lambda): [0.25 0.5  0.25]\n",
            "Linhas (rho): [1.]\n",
            "\n"
          ]
        }
      ]
    },
    {
      "cell_type": "markdown",
      "source": [
        "É possível verificar que as distribuições de graus da perspectiva das arestas e a proporção de arestas de cada grau (da perspectiva de nós) foram mantidas. Isto é um bom indicador.\n",
        "\n",
        "A meta agora é fazer o programinha que gere a matriz de base, para que ela não precise ser gerada à mão."
      ],
      "metadata": {
        "id": "y0dV44D1aW5S"
      }
    },
    {
      "cell_type": "code",
      "source": [],
      "metadata": {
        "id": "QaTBySMVauyI"
      },
      "execution_count": null,
      "outputs": []
    }
  ]
}